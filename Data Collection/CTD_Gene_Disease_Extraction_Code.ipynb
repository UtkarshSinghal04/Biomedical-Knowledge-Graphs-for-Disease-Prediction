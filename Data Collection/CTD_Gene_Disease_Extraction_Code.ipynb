{
  "cells": [
    {
      "cell_type": "code",
      "execution_count": 1,
      "metadata": {
        "colab": {
          "base_uri": "https://localhost:8080/"
        },
        "id": "N3CB5SzGwTjh",
        "outputId": "c885b4dd-3c26-4efe-c07b-5f508757900b"
      },
      "outputs": [
        {
          "name": "stderr",
          "output_type": "stream",
          "text": [
            "\n",
            "[notice] A new release of pip is available: 24.0 -> 25.0.1\n",
            "[notice] To update, run: python.exe -m pip install --upgrade pip\n"
          ]
        },
        {
          "name": "stdout",
          "output_type": "stream",
          "text": [
            "Requirement already satisfied: gdown in c:\\users\\utkarsh singhal\\appdata\\local\\programs\\python\\python311\\lib\\site-packages (5.2.0)\n",
            "Requirement already satisfied: beautifulsoup4 in c:\\users\\utkarsh singhal\\appdata\\local\\programs\\python\\python311\\lib\\site-packages (from gdown) (4.12.2)\n",
            "Requirement already satisfied: filelock in c:\\users\\utkarsh singhal\\appdata\\local\\programs\\python\\python311\\lib\\site-packages (from gdown) (3.12.0)\n",
            "Requirement already satisfied: requests[socks] in c:\\users\\utkarsh singhal\\appdata\\local\\programs\\python\\python311\\lib\\site-packages (from gdown) (2.31.0)\n",
            "Requirement already satisfied: tqdm in c:\\users\\utkarsh singhal\\appdata\\local\\programs\\python\\python311\\lib\\site-packages (from gdown) (4.66.4)\n",
            "Requirement already satisfied: soupsieve>1.2 in c:\\users\\utkarsh singhal\\appdata\\local\\programs\\python\\python311\\lib\\site-packages (from beautifulsoup4->gdown) (2.4.1)\n",
            "Requirement already satisfied: charset-normalizer<4,>=2 in c:\\users\\utkarsh singhal\\appdata\\local\\programs\\python\\python311\\lib\\site-packages (from requests[socks]->gdown) (3.1.0)\n",
            "Requirement already satisfied: idna<4,>=2.5 in c:\\users\\utkarsh singhal\\appdata\\local\\programs\\python\\python311\\lib\\site-packages (from requests[socks]->gdown) (3.4)\n",
            "Requirement already satisfied: urllib3<3,>=1.21.1 in c:\\users\\utkarsh singhal\\appdata\\local\\programs\\python\\python311\\lib\\site-packages (from requests[socks]->gdown) (1.26.16)\n",
            "Requirement already satisfied: certifi>=2017.4.17 in c:\\users\\utkarsh singhal\\appdata\\local\\programs\\python\\python311\\lib\\site-packages (from requests[socks]->gdown) (2023.5.7)\n",
            "Requirement already satisfied: PySocks!=1.5.7,>=1.5.6 in c:\\users\\utkarsh singhal\\appdata\\local\\programs\\python\\python311\\lib\\site-packages (from requests[socks]->gdown) (1.7.1)\n",
            "Requirement already satisfied: colorama in c:\\users\\utkarsh singhal\\appdata\\local\\programs\\python\\python311\\lib\\site-packages (from tqdm->gdown) (0.4.6)\n"
          ]
        }
      ],
      "source": [
        "!pip install gdown\n",
        "import gdown\n"
      ]
    },
    {
      "cell_type": "code",
      "execution_count": 6,
      "metadata": {
        "colab": {
          "base_uri": "https://localhost:8080/"
        },
        "id": "cqVEkDhz4MBX",
        "outputId": "5d60b610-72f2-4775-abdc-cf95b908f398"
      },
      "outputs": [
        {
          "name": "stderr",
          "output_type": "stream",
          "text": [
            "Downloading...\n",
            "From (original): https://drive.google.com/uc?id=17HnxRmgly3jsduVtEBieBuHaYmA-ARaY\n",
            "From (redirected): https://drive.google.com/uc?id=17HnxRmgly3jsduVtEBieBuHaYmA-ARaY&confirm=t&uuid=70dedeb9-7442-4cd8-9521-58cd83358fb7\n",
            "To: e:\\DRDO KGE Project\\Data Preprocessing\\CTD_genes_diseases.tsv.gz\n",
            "  0%|          | 10.5M/2.89G [00:01<08:04, 5.94MB/s]"
          ]
        },
        {
          "ename": "KeyboardInterrupt",
          "evalue": "",
          "output_type": "error",
          "traceback": [
            "\u001b[1;31m---------------------------------------------------------------------------\u001b[0m",
            "\u001b[1;31mKeyboardInterrupt\u001b[0m                         Traceback (most recent call last)",
            "Cell \u001b[1;32mIn[6], line 5\u001b[0m\n\u001b[0;32m      2\u001b[0m output_path \u001b[38;5;241m=\u001b[39m \u001b[38;5;124m\"\u001b[39m\u001b[38;5;124mCTD_genes_diseases.tsv.gz\u001b[39m\u001b[38;5;124m\"\u001b[39m  \u001b[38;5;66;03m# Save location\u001b[39;00m\n\u001b[0;32m      4\u001b[0m \u001b[38;5;66;03m# Download the file\u001b[39;00m\n\u001b[1;32m----> 5\u001b[0m \u001b[43mgdown\u001b[49m\u001b[38;5;241;43m.\u001b[39;49m\u001b[43mdownload\u001b[49m\u001b[43m(\u001b[49m\u001b[38;5;124;43mf\u001b[39;49m\u001b[38;5;124;43m\"\u001b[39;49m\u001b[38;5;124;43mhttps://drive.google.com/uc?id=\u001b[39;49m\u001b[38;5;132;43;01m{\u001b[39;49;00m\u001b[43mfile_id\u001b[49m\u001b[38;5;132;43;01m}\u001b[39;49;00m\u001b[38;5;124;43m\"\u001b[39;49m\u001b[43m,\u001b[49m\u001b[43m \u001b[49m\u001b[43moutput_path\u001b[49m\u001b[43m,\u001b[49m\u001b[43m \u001b[49m\u001b[43mquiet\u001b[49m\u001b[38;5;241;43m=\u001b[39;49m\u001b[38;5;28;43;01mFalse\u001b[39;49;00m\u001b[43m)\u001b[49m\n\u001b[0;32m      7\u001b[0m \u001b[38;5;66;03m# Verify file exists\u001b[39;00m\n\u001b[0;32m      8\u001b[0m \u001b[38;5;28;01mimport\u001b[39;00m \u001b[38;5;21;01mos\u001b[39;00m\n",
            "File \u001b[1;32mc:\\Users\\Utkarsh Singhal\\AppData\\Local\\Programs\\Python\\Python311\\Lib\\site-packages\\gdown\\download.py:368\u001b[0m, in \u001b[0;36mdownload\u001b[1;34m(url, output, quiet, proxy, speed, use_cookies, verify, id, fuzzy, resume, format, user_agent, log_messages)\u001b[0m\n\u001b[0;32m    366\u001b[0m     pbar \u001b[38;5;241m=\u001b[39m tqdm\u001b[38;5;241m.\u001b[39mtqdm(total\u001b[38;5;241m=\u001b[39mtotal, unit\u001b[38;5;241m=\u001b[39m\u001b[38;5;124m\"\u001b[39m\u001b[38;5;124mB\u001b[39m\u001b[38;5;124m\"\u001b[39m, initial\u001b[38;5;241m=\u001b[39mstart_size, unit_scale\u001b[38;5;241m=\u001b[39m\u001b[38;5;28;01mTrue\u001b[39;00m)\n\u001b[0;32m    367\u001b[0m t_start \u001b[38;5;241m=\u001b[39m time\u001b[38;5;241m.\u001b[39mtime()\n\u001b[1;32m--> 368\u001b[0m \u001b[38;5;28;01mfor\u001b[39;00m chunk \u001b[38;5;129;01min\u001b[39;00m res\u001b[38;5;241m.\u001b[39miter_content(chunk_size\u001b[38;5;241m=\u001b[39mCHUNK_SIZE):\n\u001b[0;32m    369\u001b[0m     f\u001b[38;5;241m.\u001b[39mwrite(chunk)\n\u001b[0;32m    370\u001b[0m     \u001b[38;5;28;01mif\u001b[39;00m \u001b[38;5;129;01mnot\u001b[39;00m quiet:\n",
            "File \u001b[1;32mc:\\Users\\Utkarsh Singhal\\AppData\\Local\\Programs\\Python\\Python311\\Lib\\site-packages\\requests\\models.py:816\u001b[0m, in \u001b[0;36mResponse.iter_content.<locals>.generate\u001b[1;34m()\u001b[0m\n\u001b[0;32m    814\u001b[0m \u001b[38;5;28;01mif\u001b[39;00m \u001b[38;5;28mhasattr\u001b[39m(\u001b[38;5;28mself\u001b[39m\u001b[38;5;241m.\u001b[39mraw, \u001b[38;5;124m\"\u001b[39m\u001b[38;5;124mstream\u001b[39m\u001b[38;5;124m\"\u001b[39m):\n\u001b[0;32m    815\u001b[0m     \u001b[38;5;28;01mtry\u001b[39;00m:\n\u001b[1;32m--> 816\u001b[0m         \u001b[38;5;28;01myield from\u001b[39;00m \u001b[38;5;28mself\u001b[39m\u001b[38;5;241m.\u001b[39mraw\u001b[38;5;241m.\u001b[39mstream(chunk_size, decode_content\u001b[38;5;241m=\u001b[39m\u001b[38;5;28;01mTrue\u001b[39;00m)\n\u001b[0;32m    817\u001b[0m     \u001b[38;5;28;01mexcept\u001b[39;00m ProtocolError \u001b[38;5;28;01mas\u001b[39;00m e:\n\u001b[0;32m    818\u001b[0m         \u001b[38;5;28;01mraise\u001b[39;00m ChunkedEncodingError(e)\n",
            "File \u001b[1;32mc:\\Users\\Utkarsh Singhal\\AppData\\Local\\Programs\\Python\\Python311\\Lib\\site-packages\\urllib3\\response.py:628\u001b[0m, in \u001b[0;36mHTTPResponse.stream\u001b[1;34m(self, amt, decode_content)\u001b[0m\n\u001b[0;32m    626\u001b[0m \u001b[38;5;28;01melse\u001b[39;00m:\n\u001b[0;32m    627\u001b[0m     \u001b[38;5;28;01mwhile\u001b[39;00m \u001b[38;5;129;01mnot\u001b[39;00m is_fp_closed(\u001b[38;5;28mself\u001b[39m\u001b[38;5;241m.\u001b[39m_fp):\n\u001b[1;32m--> 628\u001b[0m         data \u001b[38;5;241m=\u001b[39m \u001b[38;5;28;43mself\u001b[39;49m\u001b[38;5;241;43m.\u001b[39;49m\u001b[43mread\u001b[49m\u001b[43m(\u001b[49m\u001b[43mamt\u001b[49m\u001b[38;5;241;43m=\u001b[39;49m\u001b[43mamt\u001b[49m\u001b[43m,\u001b[49m\u001b[43m \u001b[49m\u001b[43mdecode_content\u001b[49m\u001b[38;5;241;43m=\u001b[39;49m\u001b[43mdecode_content\u001b[49m\u001b[43m)\u001b[49m\n\u001b[0;32m    630\u001b[0m         \u001b[38;5;28;01mif\u001b[39;00m data:\n\u001b[0;32m    631\u001b[0m             \u001b[38;5;28;01myield\u001b[39;00m data\n",
            "File \u001b[1;32mc:\\Users\\Utkarsh Singhal\\AppData\\Local\\Programs\\Python\\Python311\\Lib\\site-packages\\urllib3\\response.py:567\u001b[0m, in \u001b[0;36mHTTPResponse.read\u001b[1;34m(self, amt, decode_content, cache_content)\u001b[0m\n\u001b[0;32m    564\u001b[0m fp_closed \u001b[38;5;241m=\u001b[39m \u001b[38;5;28mgetattr\u001b[39m(\u001b[38;5;28mself\u001b[39m\u001b[38;5;241m.\u001b[39m_fp, \u001b[38;5;124m\"\u001b[39m\u001b[38;5;124mclosed\u001b[39m\u001b[38;5;124m\"\u001b[39m, \u001b[38;5;28;01mFalse\u001b[39;00m)\n\u001b[0;32m    566\u001b[0m \u001b[38;5;28;01mwith\u001b[39;00m \u001b[38;5;28mself\u001b[39m\u001b[38;5;241m.\u001b[39m_error_catcher():\n\u001b[1;32m--> 567\u001b[0m     data \u001b[38;5;241m=\u001b[39m \u001b[38;5;28;43mself\u001b[39;49m\u001b[38;5;241;43m.\u001b[39;49m\u001b[43m_fp_read\u001b[49m\u001b[43m(\u001b[49m\u001b[43mamt\u001b[49m\u001b[43m)\u001b[49m \u001b[38;5;28;01mif\u001b[39;00m \u001b[38;5;129;01mnot\u001b[39;00m fp_closed \u001b[38;5;28;01melse\u001b[39;00m \u001b[38;5;124mb\u001b[39m\u001b[38;5;124m\"\u001b[39m\u001b[38;5;124m\"\u001b[39m\n\u001b[0;32m    568\u001b[0m     \u001b[38;5;28;01mif\u001b[39;00m amt \u001b[38;5;129;01mis\u001b[39;00m \u001b[38;5;28;01mNone\u001b[39;00m:\n\u001b[0;32m    569\u001b[0m         flush_decoder \u001b[38;5;241m=\u001b[39m \u001b[38;5;28;01mTrue\u001b[39;00m\n",
            "File \u001b[1;32mc:\\Users\\Utkarsh Singhal\\AppData\\Local\\Programs\\Python\\Python311\\Lib\\site-packages\\urllib3\\response.py:533\u001b[0m, in \u001b[0;36mHTTPResponse._fp_read\u001b[1;34m(self, amt)\u001b[0m\n\u001b[0;32m    530\u001b[0m     \u001b[38;5;28;01mreturn\u001b[39;00m buffer\u001b[38;5;241m.\u001b[39mgetvalue()\n\u001b[0;32m    531\u001b[0m \u001b[38;5;28;01melse\u001b[39;00m:\n\u001b[0;32m    532\u001b[0m     \u001b[38;5;66;03m# StringIO doesn't like amt=None\u001b[39;00m\n\u001b[1;32m--> 533\u001b[0m     \u001b[38;5;28;01mreturn\u001b[39;00m \u001b[38;5;28;43mself\u001b[39;49m\u001b[38;5;241;43m.\u001b[39;49m\u001b[43m_fp\u001b[49m\u001b[38;5;241;43m.\u001b[39;49m\u001b[43mread\u001b[49m\u001b[43m(\u001b[49m\u001b[43mamt\u001b[49m\u001b[43m)\u001b[49m \u001b[38;5;28;01mif\u001b[39;00m amt \u001b[38;5;129;01mis\u001b[39;00m \u001b[38;5;129;01mnot\u001b[39;00m \u001b[38;5;28;01mNone\u001b[39;00m \u001b[38;5;28;01melse\u001b[39;00m \u001b[38;5;28mself\u001b[39m\u001b[38;5;241m.\u001b[39m_fp\u001b[38;5;241m.\u001b[39mread()\n",
            "File \u001b[1;32mc:\\Users\\Utkarsh Singhal\\AppData\\Local\\Programs\\Python\\Python311\\Lib\\http\\client.py:466\u001b[0m, in \u001b[0;36mHTTPResponse.read\u001b[1;34m(self, amt)\u001b[0m\n\u001b[0;32m    463\u001b[0m \u001b[38;5;28;01mif\u001b[39;00m \u001b[38;5;28mself\u001b[39m\u001b[38;5;241m.\u001b[39mlength \u001b[38;5;129;01mis\u001b[39;00m \u001b[38;5;129;01mnot\u001b[39;00m \u001b[38;5;28;01mNone\u001b[39;00m \u001b[38;5;129;01mand\u001b[39;00m amt \u001b[38;5;241m>\u001b[39m \u001b[38;5;28mself\u001b[39m\u001b[38;5;241m.\u001b[39mlength:\n\u001b[0;32m    464\u001b[0m     \u001b[38;5;66;03m# clip the read to the \"end of response\"\u001b[39;00m\n\u001b[0;32m    465\u001b[0m     amt \u001b[38;5;241m=\u001b[39m \u001b[38;5;28mself\u001b[39m\u001b[38;5;241m.\u001b[39mlength\n\u001b[1;32m--> 466\u001b[0m s \u001b[38;5;241m=\u001b[39m \u001b[38;5;28mself\u001b[39m\u001b[38;5;241m.\u001b[39mfp\u001b[38;5;241m.\u001b[39mread(amt)\n\u001b[0;32m    467\u001b[0m \u001b[38;5;28;01mif\u001b[39;00m \u001b[38;5;129;01mnot\u001b[39;00m s \u001b[38;5;129;01mand\u001b[39;00m amt:\n\u001b[0;32m    468\u001b[0m     \u001b[38;5;66;03m# Ideally, we would raise IncompleteRead if the content-length\u001b[39;00m\n\u001b[0;32m    469\u001b[0m     \u001b[38;5;66;03m# wasn't satisfied, but it might break compatibility.\u001b[39;00m\n\u001b[0;32m    470\u001b[0m     \u001b[38;5;28mself\u001b[39m\u001b[38;5;241m.\u001b[39m_close_conn()\n",
            "File \u001b[1;32mc:\\Users\\Utkarsh Singhal\\AppData\\Local\\Programs\\Python\\Python311\\Lib\\socket.py:706\u001b[0m, in \u001b[0;36mSocketIO.readinto\u001b[1;34m(self, b)\u001b[0m\n\u001b[0;32m    704\u001b[0m \u001b[38;5;28;01mwhile\u001b[39;00m \u001b[38;5;28;01mTrue\u001b[39;00m:\n\u001b[0;32m    705\u001b[0m     \u001b[38;5;28;01mtry\u001b[39;00m:\n\u001b[1;32m--> 706\u001b[0m         \u001b[38;5;28;01mreturn\u001b[39;00m \u001b[38;5;28;43mself\u001b[39;49m\u001b[38;5;241;43m.\u001b[39;49m\u001b[43m_sock\u001b[49m\u001b[38;5;241;43m.\u001b[39;49m\u001b[43mrecv_into\u001b[49m\u001b[43m(\u001b[49m\u001b[43mb\u001b[49m\u001b[43m)\u001b[49m\n\u001b[0;32m    707\u001b[0m     \u001b[38;5;28;01mexcept\u001b[39;00m timeout:\n\u001b[0;32m    708\u001b[0m         \u001b[38;5;28mself\u001b[39m\u001b[38;5;241m.\u001b[39m_timeout_occurred \u001b[38;5;241m=\u001b[39m \u001b[38;5;28;01mTrue\u001b[39;00m\n",
            "File \u001b[1;32mc:\\Users\\Utkarsh Singhal\\AppData\\Local\\Programs\\Python\\Python311\\Lib\\ssl.py:1278\u001b[0m, in \u001b[0;36mSSLSocket.recv_into\u001b[1;34m(self, buffer, nbytes, flags)\u001b[0m\n\u001b[0;32m   1274\u001b[0m     \u001b[38;5;28;01mif\u001b[39;00m flags \u001b[38;5;241m!=\u001b[39m \u001b[38;5;241m0\u001b[39m:\n\u001b[0;32m   1275\u001b[0m         \u001b[38;5;28;01mraise\u001b[39;00m \u001b[38;5;167;01mValueError\u001b[39;00m(\n\u001b[0;32m   1276\u001b[0m           \u001b[38;5;124m\"\u001b[39m\u001b[38;5;124mnon-zero flags not allowed in calls to recv_into() on \u001b[39m\u001b[38;5;132;01m%s\u001b[39;00m\u001b[38;5;124m\"\u001b[39m \u001b[38;5;241m%\u001b[39m\n\u001b[0;32m   1277\u001b[0m           \u001b[38;5;28mself\u001b[39m\u001b[38;5;241m.\u001b[39m\u001b[38;5;18m__class__\u001b[39m)\n\u001b[1;32m-> 1278\u001b[0m     \u001b[38;5;28;01mreturn\u001b[39;00m \u001b[38;5;28;43mself\u001b[39;49m\u001b[38;5;241;43m.\u001b[39;49m\u001b[43mread\u001b[49m\u001b[43m(\u001b[49m\u001b[43mnbytes\u001b[49m\u001b[43m,\u001b[49m\u001b[43m \u001b[49m\u001b[43mbuffer\u001b[49m\u001b[43m)\u001b[49m\n\u001b[0;32m   1279\u001b[0m \u001b[38;5;28;01melse\u001b[39;00m:\n\u001b[0;32m   1280\u001b[0m     \u001b[38;5;28;01mreturn\u001b[39;00m \u001b[38;5;28msuper\u001b[39m()\u001b[38;5;241m.\u001b[39mrecv_into(buffer, nbytes, flags)\n",
            "File \u001b[1;32mc:\\Users\\Utkarsh Singhal\\AppData\\Local\\Programs\\Python\\Python311\\Lib\\ssl.py:1134\u001b[0m, in \u001b[0;36mSSLSocket.read\u001b[1;34m(self, len, buffer)\u001b[0m\n\u001b[0;32m   1132\u001b[0m \u001b[38;5;28;01mtry\u001b[39;00m:\n\u001b[0;32m   1133\u001b[0m     \u001b[38;5;28;01mif\u001b[39;00m buffer \u001b[38;5;129;01mis\u001b[39;00m \u001b[38;5;129;01mnot\u001b[39;00m \u001b[38;5;28;01mNone\u001b[39;00m:\n\u001b[1;32m-> 1134\u001b[0m         \u001b[38;5;28;01mreturn\u001b[39;00m \u001b[38;5;28;43mself\u001b[39;49m\u001b[38;5;241;43m.\u001b[39;49m\u001b[43m_sslobj\u001b[49m\u001b[38;5;241;43m.\u001b[39;49m\u001b[43mread\u001b[49m\u001b[43m(\u001b[49m\u001b[38;5;28;43mlen\u001b[39;49m\u001b[43m,\u001b[49m\u001b[43m \u001b[49m\u001b[43mbuffer\u001b[49m\u001b[43m)\u001b[49m\n\u001b[0;32m   1135\u001b[0m     \u001b[38;5;28;01melse\u001b[39;00m:\n\u001b[0;32m   1136\u001b[0m         \u001b[38;5;28;01mreturn\u001b[39;00m \u001b[38;5;28mself\u001b[39m\u001b[38;5;241m.\u001b[39m_sslobj\u001b[38;5;241m.\u001b[39mread(\u001b[38;5;28mlen\u001b[39m)\n",
            "\u001b[1;31mKeyboardInterrupt\u001b[0m: "
          ]
        },
        {
          "name": "stderr",
          "output_type": "stream",
          "text": [
            "  0%|          | 11.5M/2.89G [00:16<08:04, 5.94MB/s]"
          ]
        }
      ],
      "source": [
        "file_id = \"17HnxRmgly3jsduVtEBieBuHaYmA-ARaY\"  # Extracted from your link\n",
        "output_path = \"CTD_genes_diseases.tsv.gz\"  # Save location\n",
        "\n",
        "# Download the file\n",
        "gdown.download(f\"https://drive.google.com/uc?id={file_id}\", output_path, quiet=False)\n",
        "\n",
        "# Verify file exists\n",
        "import os\n",
        "\n",
        "if os.path.exists(output_path):\n",
        "    print(\"✅ File downloaded successfully:\", output_path)\n",
        "else:\n",
        "    print(\"❌ Download failed! Check the link.\")"
      ]
    },
    {
      "cell_type": "code",
      "execution_count": 4,
      "metadata": {
        "colab": {
          "base_uri": "https://localhost:8080/"
        },
        "id": "eb-zvjCk4cxs",
        "outputId": "ec51cf8d-6ccd-4e31-9e6a-667733db4965"
      },
      "outputs": [
        {
          "name": "stdout",
          "output_type": "stream",
          "text": [
            "# The Comparative Toxicogenomics Database (CTD) - http://ctdbase.org/\n",
            "\n",
            "#   Copyright 2002-2012 MDI Biological Laboratory. All rights reserved.\n",
            "\n",
            "#   Copyright 2012-2025 NC State University. All rights reserved.\n",
            "\n",
            "#  \n",
            "\n",
            "# \n",
            "\n",
            "# Use is subject to the terms set forth at http://ctdbase.org/about/legal.jsp\n",
            "\n",
            "# These terms include:\n",
            "\n",
            "# \n",
            "\n",
            "#   1. All forms of publication (e.g., web sites, research papers, databases,\n",
            "\n",
            "#      software applications, etc.) that use or rely on CTD data must cite CTD.\n",
            "\n",
            "#      Citation guidelines: http://ctdbase.org/about/publications/#citing\n",
            "\n",
            "# \n",
            "\n",
            "#   2. All electronic or online applications must include hyperlinks from \n",
            "\n",
            "#      contexts that use CTD data to the applicable CTD data pages.\n",
            "\n",
            "#      Linking instructions: http://ctdbase.org/help/linking.jsp\n",
            "\n",
            "# \n",
            "\n",
            "#   3. You must notify CTD, and describe your use of our data:\n",
            "\n",
            "#      http://ctdbase.org/help/contact.go\n",
            "\n",
            "# \n",
            "\n",
            "#   4. For quality control purposes, you must provide CTD with periodic \n",
            "\n",
            "#      access to your publication of our data.\n",
            "\n",
            "# \n",
            "\n",
            "# More information: http://ctdbase.org/downloads/\n",
            "\n",
            "# \n",
            "\n",
            "# Report created: Fri Feb 28 11:57:42 EST 2025\n",
            "\n",
            "#\n",
            "\n",
            "# Fields:\n",
            "\n",
            "# GeneSymbol,GeneID,DiseaseName,DiseaseID,DirectEvidence,InferenceChemicalName,InferenceScore,OmimIDs,PubMedIDs\n",
            "\n",
            "#\n",
            "\n",
            "11-BETA-HSD3,100174880,\"Abnormalities, Drug-Induced\",MESH:D000014,,Endocrine Disruptors,5.21,,22659286\n",
            "\n",
            "11-BETA-HSD3,100174880,Amyotrophic Lateral Sclerosis,MESH:D000690,,\"Water Pollutants, Chemical\",4.78,,33562464\n",
            "\n",
            "11-BETA-HSD3,100174880,Anemia,MESH:D000740,,\"Water Pollutants, Chemical\",4.31,,26546277\n",
            "\n",
            "11-BETA-HSD3,100174880,\"Anemia, Hemolytic\",MESH:D000743,,\"Water Pollutants, Chemical\",4.61,,22425172\n",
            "\n",
            "11-BETA-HSD3,100174880,Asthenozoospermia,MESH:D053627,,\"Water Pollutants, Chemical\",5.08,,25179371\n",
            "\n",
            "11-BETA-HSD3,100174880,Birth Weight,MESH:D001724,,Endocrine Disruptors,12.21,,27152464|29518214\n",
            "\n",
            "11-BETA-HSD3,100174880,Birth Weight,MESH:D001724,,\"Water Pollutants, Chemical\",12.21,,32321520\n",
            "\n",
            "11-BETA-HSD3,100174880,Body Weight,MESH:D001835,,\"Water Pollutants, Chemical\",5.19,,32842613\n",
            "\n",
            "11-BETA-HSD3,100174880,Breast Neoplasms,MESH:D001943,,Endocrine Disruptors,8.83,,20646273\n",
            "\n",
            "11-BETA-HSD3,100174880,Breast Neoplasms,MESH:D001943,,\"Water Pollutants, Chemical\",8.83,,20164002\n",
            "\n",
            "11-BETA-HSD3,100174880,\"Cell Transformation, Neoplastic\",MESH:D002471,,\"Water Pollutants, Chemical\",4.27,,26210350\n",
            "\n",
            "11-BETA-HSD3,100174880,Chromosome Aberrations,MESH:D002869,,\"Water Pollutants, Chemical\",4.68,,20732340\n",
            "\n",
            "11-BETA-HSD3,100174880,Death,MESH:D003643,,\"Water Pollutants, Chemical\",4.74,,22471926|24552493\n",
            "\n",
            "11-BETA-HSD3,100174880,\"Dermatitis, Irritant\",MESH:D017453,,\"Water Pollutants, Chemical\",5.28,,26546277\n",
            "\n",
            "11-BETA-HSD3,100174880,Disorders of Sex Development,MESH:D012734,,Endocrine Disruptors,14.23,,25198161\n",
            "\n",
            "11-BETA-HSD3,100174880,Disorders of Sex Development,MESH:D012734,,\"Water Pollutants, Chemical\",14.23,,25198161\n",
            "\n",
            "11-BETA-HSD3,100174880,Dizziness,MESH:D004244,,\"Water Pollutants, Chemical\",4.37,,26546277\n",
            "\n",
            "11-BETA-HSD3,100174880,Esophageal Neoplasms,MESH:D004938,,\"Water Pollutants, Chemical\",4.72,,24552493\n",
            "\n",
            "11-BETA-HSD3,100174880,Eye Pain,MESH:D058447,,\"Water Pollutants, Chemical\",6.08,,26546277\n",
            "\n"
          ]
        }
      ],
      "source": [
        "import gzip\n",
        "\n",
        "file_path = \"CTD_genes_diseases.tsv.gz\"\n",
        "\n",
        "# Read first 10 lines safely\n",
        "with gzip.open(file_path, \"rt\", encoding=\"utf-8\", errors=\"replace\") as f:\n",
        "    for _ in range(48):\n",
        "        print(next(f))"
      ]
    },
    {
      "cell_type": "markdown",
      "metadata": {},
      "source": [
        "Code for Disease - Gene CSV "
      ]
    },
    {
      "cell_type": "code",
      "execution_count": 4,
      "metadata": {
        "id": "P02VNyuv-4CH"
      },
      "outputs": [
        {
          "name": "stdout",
          "output_type": "stream",
          "text": [
            "✅ Extracted data saved as 'Heart Disease_filtered.csv' with 12745 rows\n",
            "✅ Extracted data saved as 'Stroke_filtered.csv' with 38358 rows\n",
            "✅ Extracted data saved as 'Hypertension_filtered.csv' with 110600 rows\n",
            "✅ Extracted data saved as 'Diabetes Mellitus_filtered.csv' with 149254 rows\n",
            "✅ Extracted data saved as 'Asthma_filtered.csv' with 48176 rows\n",
            "✅ Extracted data saved as 'ILD_filtered.csv' with 3142 rows\n",
            "✅ Extracted data saved as 'Cirrhosis_filtered.csv' with 230406 rows\n",
            "✅ Extracted data saved as 'Hepatitis_filtered.csv' with 50976 rows\n",
            "✅ Extracted data saved as 'Fatty Liver Disease_filtered.csv' with 37448 rows\n",
            "✅ Extracted data saved as 'Epilepsy_filtered.csv' with 30950 rows\n",
            "✅ Extracted data saved as 'Alzheimer_filtered.csv' with 37875 rows\n",
            "✅ Extracted data saved as 'Parkinson_filtered.csv' with 44444 rows\n",
            "✅ Extracted data saved as 'Rheumatoid Arthritis_filtered.csv' with 2539 rows\n",
            "✅ Extracted data saved as 'Lupus_filtered.csv' with 20185 rows\n",
            "✅ Extracted data saved as 'Psoriasis_filtered.csv' with 24892 rows\n",
            "✅ Extracted data saved as 'Osteoarthritis_filtered.csv' with 33559 rows\n",
            "✅ Extracted data saved as 'Tuberculosis_filtered.csv' with 7654 rows\n",
            "✅ Extracted data saved as 'Pneumonia_filtered.csv' with 35101 rows\n",
            "✅ Extracted data saved as 'Obesity_filtered.csv' with 63864 rows\n",
            "✅ Extracted data saved as 'Pulmonary Edema_filtered.csv' with 8574 rows\n",
            "✅ Extracted data saved as 'Sleep disorders_filtered.csv' with 870 rows\n",
            "✅ Extracted data saved as 'Hypoxia_filtered.csv' with 13054 rows\n",
            "✅ Extracted data saved as 'Chronic Kidney Disease_filtered.csv' with 9 rows\n",
            "✅ Extracted data saved as 'retinal hemorrhage_filtered.csv' with 7 rows\n",
            "✅ Extracted data saved as 'Deep Vein Thrombosis_filtered.csv' with 1 rows\n",
            "✅ Disease counts saved as 'Disease_Counts.csv'\n"
          ]
        }
      ],
      "source": [
        "import pandas as pd\n",
        "\n",
        "# File path\n",
        "file_path = \"Original_data/CTD_chemicals_diseases.csv\"\n",
        "\n",
        "# Column headers\n",
        "columns = [\n",
        "    \"ChemicalName\",\n",
        "    \"ChemicalID\",\n",
        "    \"CasRN\",\n",
        "    \"DiseaseName\",\n",
        "    \"DiseaseID\",\n",
        "    \"DirectEvidence\",\n",
        "    \"InferenceGeneSymbol\",\n",
        "    \"InferenceScore\",\n",
        "    \"OmimIDs\",\n",
        "    \"PubMedIDs\",\n",
        "]\n",
        "\n",
        "# List of diseases to search\n",
        "disease_list = [\n",
        "    \"Heart Disease\",\n",
        "    \"Stroke\",\n",
        "    \"Hypertension\",\n",
        "    \"Diabetes Mellitus\",\n",
        "    \"COPD\",\n",
        "    \"Asthma\",\n",
        "    \"ILD\",\n",
        "    \"Lung Cancer\",\n",
        "    \"Breast Cancer\",\n",
        "    \"Cervical Cancer\",\n",
        "    \"Oral Cancer\",\n",
        "    \"Liver Cancer\",\n",
        "    \"Chronic Kidney Disease\",\n",
        "    \"Cirrhosis\",\n",
        "    \"Hepatitis\",\n",
        "    \"Fatty Liver Disease\",\n",
        "    \"Epilepsy\",\n",
        "    \"Alzheimer\",\n",
        "    \"Parkinson\",\n",
        "    \"Rheumatoid Arthritis\",\n",
        "    \"Lupus\",\n",
        "    \"Psoriasis\",\n",
        "    \"Osteoarthritis\",\n",
        "    \"Tuberculosis\",\n",
        "    \"Pneumonia\",\n",
        "    \"Obesity\",\n",
        "    \"Acute Mountain Sickness\",\n",
        "    \"Chronic Mountain Sickness\",\n",
        "    \"Pulmonary Edema\",\n",
        "    \"Cerebral Edema\",\n",
        "    \"Systemic Hypertension\",\n",
        "    \"Sleep disorders\",\n",
        "    \"retinal hemorrhage\",\n",
        "    \"Deep Vein Thrombosis\",\n",
        "    \"Hypoxia\",\n",
        "]\n",
        "\n",
        "# Process in chunks\n",
        "chunk_size = 10000  # Read in chunks of 10,000 rows\n",
        "disease_counts = {}\n",
        "\n",
        "# Read file in chunks\n",
        "for chunk in pd.read_csv(\n",
        "    file_path,\n",
        "    sep=\",\",\n",
        "    skiprows=28,\n",
        "    names=columns,\n",
        "    # compression=\"gzip\",\n",
        "    dtype=str,\n",
        "    quotechar='\"',\n",
        "    on_bad_lines=\"skip\",\n",
        "    chunksize=chunk_size,\n",
        "    keep_default_na=False,\n",
        "    na_values=[\"\"],\n",
        "):\n",
        "    for disease in disease_list:\n",
        "        df_filtered = chunk[\n",
        "            chunk[\"DiseaseName\"].str.contains(disease, case=False, na=False, regex=True)\n",
        "        ]\n",
        "\n",
        "        if not df_filtered.empty:\n",
        "            if disease not in disease_counts:\n",
        "                disease_counts[disease] = df_filtered\n",
        "            else:\n",
        "                disease_counts[disease] = pd.concat(\n",
        "                    [disease_counts[disease], df_filtered], ignore_index=True\n",
        "                )\n",
        "\n",
        "# Save filtered data and count summary\n",
        "summary_data = []\n",
        "for disease, df in disease_counts.items():\n",
        "    df.to_csv(f\"{disease}_filtered.csv\", index=False)\n",
        "    row_count = len(df)\n",
        "    summary_data.append([disease, row_count])\n",
        "    print(f\"✅ Extracted data saved as '{disease}_filtered.csv' with {row_count} rows\")\n",
        "\n",
        "# Save disease counts summary\n",
        "count_df = pd.DataFrame(summary_data, columns=[\"DiseaseName\", \"Count\"])\n",
        "count_df.to_csv(\"Disease_Counts.csv\", index=False)\n",
        "print(\"✅ Disease counts saved as 'Disease_Counts.csv'\")"
      ]
    },
    {
      "cell_type": "code",
      "execution_count": null,
      "metadata": {
        "colab": {
          "base_uri": "https://localhost:8080/"
        },
        "id": "QiUAFBzjXJC-",
        "outputId": "97ba222c-847a-4d53-9d16-ee53d4d129ce"
      },
      "outputs": [
        {
          "name": "stdout",
          "output_type": "stream",
          "text": [
            "Downloading GO basic JSON file...\n",
            "✅ Download complete: go-basic.json\n"
          ]
        }
      ],
      "source": [
        "import requests\n",
        "\n",
        "# URL of GO basic JSON file\n",
        "url = \"http://purl.obolibrary.org/obo/go/go-basic.json\"\n",
        "file_path = \"go-basic.json\"\n",
        "\n",
        "# Download the file\n",
        "print(\"Downloading GO basic JSON file...\")\n",
        "response = requests.get(url, stream=True)\n",
        "\n",
        "if response.status_code == 200:\n",
        "    with open(file_path, \"wb\") as f:\n",
        "        for chunk in response.iter_content(chunk_size=1024):\n",
        "            f.write(chunk)\n",
        "    print(\"✅ Download complete: go-basic.json\")\n",
        "else:\n",
        "    print(\"❌ Download failed. Check the URL or your internet connection.\")"
      ]
    },
    {
      "cell_type": "code",
      "execution_count": null,
      "metadata": {
        "colab": {
          "base_uri": "https://localhost:8080/"
        },
        "id": "flO9LISJX0Iu",
        "outputId": "e2d6c853-668e-4b74-9ee6-de402a9dbc1e"
      },
      "outputs": [
        {
          "name": "stdout",
          "output_type": "stream",
          "text": [
            "Top-level keys: dict_keys(['graphs'])\n"
          ]
        }
      ],
      "source": [
        "import json\n",
        "\n",
        "# Load the GO JSON file\n",
        "file_path = \"go-basic.json\"\n",
        "\n",
        "with open(file_path, \"r\") as f:\n",
        "    go_data = json.load(f)\n",
        "\n",
        "# Print top-level structure\n",
        "print(\"Top-level keys:\", go_data.keys())"
      ]
    },
    {
      "cell_type": "code",
      "execution_count": null,
      "metadata": {
        "colab": {
          "base_uri": "https://localhost:8080/"
        },
        "id": "dBnVseGsX2jq",
        "outputId": "d7b2ffb7-4058-4b52-b697-14973259d3dd"
      },
      "outputs": [
        {
          "name": "stdout",
          "output_type": "stream",
          "text": [
            "<class 'list'>\n",
            "1\n",
            "dict_keys(['id', 'meta', 'nodes', 'edges', 'propertyChainAxioms'])\n"
          ]
        }
      ],
      "source": [
        "# Check what's inside 'graphs'\n",
        "print(type(go_data[\"graphs\"]))  # Should be a list\n",
        "print(len(go_data[\"graphs\"]))  # Number of elements\n",
        "print(go_data[\"graphs\"][0].keys())  # Keys inside the first graph"
      ]
    },
    {
      "cell_type": "code",
      "execution_count": null,
      "metadata": {
        "colab": {
          "base_uri": "https://localhost:8080/"
        },
        "id": "I6a7WA6LXAuD",
        "outputId": "0ff7abbe-cb54-48fd-a3c8-4bd87290fab1"
      },
      "outputs": [
        {
          "name": "stdout",
          "output_type": "stream",
          "text": [
            "✅ Found 2 GO terms related to ['Edema']:\n",
            "ID: http://purl.obolibrary.org/obo/GO_0034480\n",
            "Label: phosphatidylcholine phospholipase C activity\n",
            "Definition: Catalysis of the reaction: a 1,2-diacyl-sn-glycero-3-phosphocholine + H2O = a 1,2-diacyl-sn-glycerol + H+ + phosphocholine.\n",
            "Synonyms: ['phospholipase C, acting on phosphatidylcholine', 'Clostridium oedematiens beta- and gamma-toxins activity', 'Clostridium welchii alpha-toxin activity', 'heat-labile hemolysin', 'lipophosphodiesterase I activity', 'phosphatidylcholine cholinephosphohydrolase activity']\n",
            "\n",
            "ID: http://purl.obolibrary.org/obo/GO_0044398\n",
            "Label: venom-mediated edema in another organism\n",
            "Definition: A process by which an organism causes swelling of soft tissues in another organism via the action of a venom. Edema is the result of excess water accumulation in tissues.\n",
            "Synonyms: ['envenomation resulting in induction of edema in another organism', 'envenomation resulting in induction of edema in other organism', 'envenomation resulting in induction of oedema in other organism']\n",
            "\n"
          ]
        }
      ],
      "source": [
        "import json\n",
        "\n",
        "# Load the GO JSON file\n",
        "file_path = \"go-basic.json\"\n",
        "\n",
        "with open(file_path, \"r\") as f:\n",
        "    go_data = json.load(f)\n",
        "\n",
        "# Extract ontology terms\n",
        "terms = go_data[\"graphs\"][0][\"nodes\"]\n",
        "\n",
        "# Search for broader terms\n",
        "search_terms = [\"Edema\"]\n",
        "matching_terms = []\n",
        "\n",
        "for term in terms:\n",
        "    term_id = term.get(\"id\", \"N/A\")\n",
        "    label = term.get(\"lbl\", \"N/A\")\n",
        "    definition = term.get(\"meta\", {}).get(\"definition\", {}).get(\"val\", \"\")\n",
        "    synonyms = term.get(\"meta\", {}).get(\"synonyms\", [])\n",
        "\n",
        "    # Convert synonyms to a list of values\n",
        "    synonym_list = [syn[\"val\"] for syn in synonyms]\n",
        "\n",
        "    # Search in label, definition, or synonyms\n",
        "    for search_term in search_terms:\n",
        "        if (\n",
        "            search_term.lower() in label.lower()\n",
        "            or search_term.lower() in definition.lower()\n",
        "            or any(search_term.lower() in syn.lower() for syn in synonym_list)\n",
        "        ):\n",
        "\n",
        "            matching_terms.append(\n",
        "                {\n",
        "                    \"ID\": term_id,\n",
        "                    \"Label\": label,\n",
        "                    \"Definition\": definition,\n",
        "                    \"Synonyms\": synonym_list,\n",
        "                }\n",
        "            )\n",
        "            break  # Avoid duplicate entries\n",
        "\n",
        "# Display results\n",
        "if matching_terms:\n",
        "    print(f\"✅ Found {len(matching_terms)} GO terms related to {search_terms}:\")\n",
        "    for term in matching_terms:\n",
        "        print(\n",
        "            f\"ID: {term['ID']}\\nLabel: {term['Label']}\\nDefinition: {term['Definition']}\\nSynonyms: {term['Synonyms']}\\n\"\n",
        "        )\n",
        "else:\n",
        "    print(\n",
        "        f\"❌ No matching GO terms found for {search_terms}. Try alternative keywords.\"\n",
        "    )"
      ]
    }
  ],
  "metadata": {
    "colab": {
      "provenance": []
    },
    "kernelspec": {
      "display_name": "Python 3",
      "name": "python3"
    },
    "language_info": {
      "codemirror_mode": {
        "name": "ipython",
        "version": 3
      },
      "file_extension": ".py",
      "mimetype": "text/x-python",
      "name": "python",
      "nbconvert_exporter": "python",
      "pygments_lexer": "ipython3",
      "version": "3.11.3"
    }
  },
  "nbformat": 4,
  "nbformat_minor": 0
}
